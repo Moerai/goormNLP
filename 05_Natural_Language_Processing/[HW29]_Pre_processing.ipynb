{
  "nbformat": 4,
  "nbformat_minor": 0,
  "metadata": {
    "colab": {
      "name": "[HW29] Pre-processing.ipynb",
      "provenance": [],
      "collapsed_sections": []
    },
    "kernelspec": {
      "name": "python3",
      "display_name": "Python 3"
    },
    "language_info": {
      "name": "python"
    }
  },
  "cells": [
    {
      "cell_type": "markdown",
      "metadata": {
        "id": "d3jO2DcK01bz"
      },
      "source": [
        "# HW5: Pre-tokenization\n",
        "\n",
        "\n",
        "*   본 실습에서는 자연어 처리 데이터 전처리 과정에 필요한 다양한 module 을 사용해봅니다.\n",
        "\n",
        "\n",
        "> Reference: https://wikidocs.net/21703\n",
        "\n",
        "\n"
      ]
    },
    {
      "cell_type": "markdown",
      "metadata": {
        "id": "Lf5OcIO0RHxh"
      },
      "source": [
        "### Regular Expression"
      ]
    },
    {
      "cell_type": "code",
      "metadata": {
        "id": "k6s8155xRHHQ"
      },
      "source": [
        "import re"
      ],
      "execution_count": null,
      "outputs": []
    },
    {
      "cell_type": "markdown",
      "metadata": {
        "id": "ehgcE7jaSu5z"
      },
      "source": [
        ". 기호"
      ]
    },
    {
      "cell_type": "code",
      "metadata": {
        "id": "aoEZ2tFGRrtC"
      },
      "source": [
        "# 임의의 한 개의 문자를 나타내는 . \n",
        "r = re.compile(\"a.c\")\n",
        "r.search(\"ab\")"
      ],
      "execution_count": null,
      "outputs": []
    },
    {
      "cell_type": "code",
      "metadata": {
        "id": "s2G0d2haR0aH",
        "outputId": "44c1051d-ea95-41e1-f5e2-1a4900e527ee",
        "colab": {
          "base_uri": "https://localhost:8080/"
        }
      },
      "source": [
        "r.search(\"abc\")"
      ],
      "execution_count": null,
      "outputs": [
        {
          "output_type": "execute_result",
          "data": {
            "text/plain": [
              "<re.Match object; span=(0, 3), match='abc'>"
            ]
          },
          "metadata": {},
          "execution_count": 3
        }
      ]
    },
    {
      "cell_type": "markdown",
      "metadata": {
        "id": "LfqKEAr6SxjY"
      },
      "source": [
        "? 기호"
      ]
    },
    {
      "cell_type": "code",
      "metadata": {
        "id": "EHbrO-jjSDnT"
      },
      "source": [
        "# ? 앞의 문자가 존재할 수도 있고, 존재하지 않을 수도 있는 경우\n",
        "r = re.compile(\"a?c\")\n",
        "r.search(\"bc\")"
      ],
      "execution_count": null,
      "outputs": []
    },
    {
      "cell_type": "code",
      "metadata": {
        "id": "i7itXRsnSPbt"
      },
      "source": [
        "# 존재 하는 경우의 매칭\n",
        "r.search(\"ac\")"
      ],
      "execution_count": null,
      "outputs": []
    },
    {
      "cell_type": "code",
      "metadata": {
        "id": "x7QbSiGGSUAG"
      },
      "source": [
        "# 존재하지 않는 경우의 매칭\n",
        "r.search(\"abc\")"
      ],
      "execution_count": null,
      "outputs": []
    },
    {
      "cell_type": "markdown",
      "metadata": {
        "id": "E-TvGvF0Sys8"
      },
      "source": [
        "\\* 기호"
      ]
    },
    {
      "cell_type": "code",
      "metadata": {
        "id": "v1xtvrwlSbkN"
      },
      "source": [
        "# * 은 바로 앞의 문자가 0개 이상일 경우를 나타냄.\n",
        "r = re.compile(\"ab*c\") # b 가 하나도 없거나, 여러 개인 경우\n",
        "r.search(\"a\")"
      ],
      "execution_count": null,
      "outputs": []
    },
    {
      "cell_type": "code",
      "metadata": {
        "id": "XE-3Iu9WTIlx"
      },
      "source": [
        "r.search(\"ac\")"
      ],
      "execution_count": null,
      "outputs": []
    },
    {
      "cell_type": "code",
      "metadata": {
        "id": "F0SXuafEV2MK"
      },
      "source": [
        "r.search(\"abc\")"
      ],
      "execution_count": null,
      "outputs": []
    },
    {
      "cell_type": "code",
      "metadata": {
        "id": "IfqYapkETEkB"
      },
      "source": [
        "r.search(\"abbbbc\")"
      ],
      "execution_count": null,
      "outputs": []
    },
    {
      "cell_type": "markdown",
      "metadata": {
        "id": "hHcfFwnzTSGX"
      },
      "source": [
        "\\+ 기호"
      ]
    },
    {
      "cell_type": "code",
      "metadata": {
        "id": "kVN6Fg81TUIX"
      },
      "source": [
        "# + 앞의 문자가 최소 1개 이상 있어야 함. \n",
        "r = re.compile(\"ab+c\")\n",
        "r.search(\"ac\")"
      ],
      "execution_count": null,
      "outputs": []
    },
    {
      "cell_type": "code",
      "metadata": {
        "id": "J6QvtyK3WHRv"
      },
      "source": [
        "r.search(\"abc\")"
      ],
      "execution_count": null,
      "outputs": []
    },
    {
      "cell_type": "code",
      "metadata": {
        "id": "Ir5dEOoLWHM1"
      },
      "source": [
        "r.search(\"abbbc\")"
      ],
      "execution_count": null,
      "outputs": []
    },
    {
      "cell_type": "markdown",
      "metadata": {
        "id": "u0550AuMWLYU"
      },
      "source": [
        "^ 기호"
      ]
    },
    {
      "cell_type": "code",
      "metadata": {
        "id": "hJpo7oGtWHFz"
      },
      "source": [
        "# ^ 시작되는 글자를 지정함. \n",
        "r = re.compile(\"^a\")\n",
        "r.search(\"bbc\")"
      ],
      "execution_count": null,
      "outputs": []
    },
    {
      "cell_type": "code",
      "metadata": {
        "id": "H5LEsCPrWHBW"
      },
      "source": [
        "r.search(\"ab\")"
      ],
      "execution_count": null,
      "outputs": []
    },
    {
      "cell_type": "markdown",
      "metadata": {
        "id": "VCHfZhfXWv6w"
      },
      "source": [
        "{숫자} 기호"
      ]
    },
    {
      "cell_type": "code",
      "metadata": {
        "id": "V6V1jNMaWvRQ"
      },
      "source": [
        "# 앞 문자를 해당 숫자만큼 반복해야 함.\n",
        "r = re.compile(\"ab{2}c\")\n",
        "r.search(\"ac\")"
      ],
      "execution_count": null,
      "outputs": []
    },
    {
      "cell_type": "code",
      "metadata": {
        "id": "m1NnGVX_XDNq"
      },
      "source": [
        "r.search(\"abc\")"
      ],
      "execution_count": null,
      "outputs": []
    },
    {
      "cell_type": "code",
      "metadata": {
        "id": "fCdJVMlUXDJo"
      },
      "source": [
        "r.search(\"abbc\")"
      ],
      "execution_count": null,
      "outputs": []
    },
    {
      "cell_type": "markdown",
      "metadata": {
        "id": "gAV5hiNpXIiR"
      },
      "source": [
        "{숫자1, 숫자2} 기호"
      ]
    },
    {
      "cell_type": "code",
      "metadata": {
        "id": "RAztm80IXDGG"
      },
      "source": [
        "# 앞 문자를 숫자1 이상 숫자2 이하 만큼 반복해야 함.\n",
        "r = re.compile(\"ab{2,8}c\")\n",
        "r.search(\"ac\")"
      ],
      "execution_count": null,
      "outputs": []
    },
    {
      "cell_type": "code",
      "metadata": {
        "id": "NFlnwaqfXDBI"
      },
      "source": [
        "r.search(\"abc\")"
      ],
      "execution_count": null,
      "outputs": []
    },
    {
      "cell_type": "code",
      "metadata": {
        "id": "7zMN8nGoXbww"
      },
      "source": [
        "r.search(\"abbc\")"
      ],
      "execution_count": null,
      "outputs": []
    },
    {
      "cell_type": "code",
      "metadata": {
        "id": "fDSTC0LqXdq1"
      },
      "source": [
        "r.search(\"abbbbbbbbc\")"
      ],
      "execution_count": null,
      "outputs": []
    },
    {
      "cell_type": "code",
      "metadata": {
        "id": "XcQSM0dBXf8G"
      },
      "source": [
        "r.search(\"abbbbbbbbbc\")"
      ],
      "execution_count": null,
      "outputs": []
    },
    {
      "cell_type": "markdown",
      "metadata": {
        "id": "1ar2VQCcXkXw"
      },
      "source": [
        "{숫자,} 기호"
      ]
    },
    {
      "cell_type": "code",
      "metadata": {
        "id": "zuzOi9OFXjpV"
      },
      "source": [
        "# 앞 문자를 숫자 이상 만큼 반복해야 함.\n",
        "r = re.compile(\"a{2,}bc\")\n",
        "r.search(\"abc\")"
      ],
      "execution_count": null,
      "outputs": []
    },
    {
      "cell_type": "code",
      "metadata": {
        "id": "Zar_YxUeaCWQ"
      },
      "source": [
        "r.search(\"aabc\")"
      ],
      "execution_count": null,
      "outputs": []
    },
    {
      "cell_type": "markdown",
      "metadata": {
        "id": "W-FZGAemaGI0"
      },
      "source": [
        "[ ] 기호"
      ]
    },
    {
      "cell_type": "code",
      "metadata": {
        "id": "2gujcbK2aItx"
      },
      "source": [
        "# [] 안에 있는 문자들 중 한 개의 문자와 매치\n",
        "# 범위를 지정할 수도 있음. 예) a-z, A-Z, 0-9\n",
        "r = re.compile('[abc]')\n",
        "r.search(\"dd\")"
      ],
      "execution_count": null,
      "outputs": []
    },
    {
      "cell_type": "code",
      "metadata": {
        "id": "_D0ouzK8af8b"
      },
      "source": [
        "r.search(\"ad\")"
      ],
      "execution_count": null,
      "outputs": []
    },
    {
      "cell_type": "code",
      "metadata": {
        "id": "KhJFKGcjaiUe"
      },
      "source": [
        "r.search(\"adb\")"
      ],
      "execution_count": null,
      "outputs": []
    },
    {
      "cell_type": "markdown",
      "metadata": {
        "id": "gOl5g4NYatBB"
      },
      "source": [
        "[^문자] 기호"
      ]
    },
    {
      "cell_type": "code",
      "metadata": {
        "id": "TVztqwGaapM-"
      },
      "source": [
        "# ^기호 뒤에 붙은 문자들을 제외한 모든 문자를 매치함.\n",
        "r = re.compile(\"[^abc]\") # abc 제외 모든 문자\n",
        "r.search(\"ab\")"
      ],
      "execution_count": null,
      "outputs": []
    },
    {
      "cell_type": "code",
      "metadata": {
        "id": "u_8vC9IybGMI"
      },
      "source": [
        "r.search(\"abcd\")"
      ],
      "execution_count": null,
      "outputs": []
    },
    {
      "cell_type": "markdown",
      "metadata": {
        "id": "2t9pTu-81BQk"
      },
      "source": [
        "### KoNLPy"
      ]
    },
    {
      "cell_type": "code",
      "metadata": {
        "id": "KX0tqj-r1xm8"
      },
      "source": [
        "!pip install konlpy"
      ],
      "execution_count": null,
      "outputs": []
    },
    {
      "cell_type": "markdown",
      "metadata": {
        "id": "ngUBX6iA1KCk"
      },
      "source": [
        "한나눔(Hannanum)"
      ]
    },
    {
      "cell_type": "code",
      "metadata": {
        "id": "TCubXxCT0d5T"
      },
      "source": [
        "from konlpy.tag import Hannanum\n",
        "hannanum = Hannanum()\n",
        "text = '환영합니다! 자연어 처리 수업은 재미있게 듣고 계신가요?'\n",
        "print(hannanum.morphs(text))  # Parse phrase to morphemes\n",
        "print(hannanum.nouns(text))   # Noun extractors\n",
        "print(hannanum.pos(text))     # POS tagger"
      ],
      "execution_count": null,
      "outputs": []
    },
    {
      "cell_type": "code",
      "metadata": {
        "id": "S0eD1CVr1QuS"
      },
      "source": [
        "from konlpy.tag import Kkma\n",
        "kkma = Kkma()\n",
        "text = '환영합니다! 자연어 처리 수업은 재미있게 듣고 계신가요?'\n",
        "print(kkma.morphs(text))  # Parse phrase to morphemes\n",
        "print(kkma.nouns(text))   # Noun extractors\n",
        "print(kkma.pos(text))     # POS tagger"
      ],
      "execution_count": null,
      "outputs": []
    },
    {
      "cell_type": "markdown",
      "metadata": {
        "id": "LtqXc97dOm2c"
      },
      "source": [
        "### Khaiii"
      ]
    },
    {
      "cell_type": "code",
      "metadata": {
        "id": "O2mQ7tf6O02Y"
      },
      "source": [
        "!git clone https://github.com/kakao/khaiii.git\n",
        "!pip install cmake\n",
        "!mkdir build\n",
        "!cd build && cmake /content/khaiii\n",
        "!cd /content/build/ && make all\n",
        "!cd /content/build/ && make resource\n",
        "!cd /content/build && make install\n",
        "!cd /content/build && make package_python\n",
        "!pip install /content/build/package_python"
      ],
      "execution_count": null,
      "outputs": []
    },
    {
      "cell_type": "code",
      "metadata": {
        "id": "oQmkykw_OpSU"
      },
      "source": [
        "from khaiii import KhaiiiApi\n",
        "khaiiApi = KhaiiiApi()"
      ],
      "execution_count": null,
      "outputs": []
    },
    {
      "cell_type": "code",
      "metadata": {
        "id": "cl0W3gQVOxpH"
      },
      "source": [
        "tokenized = khaiiApi.analyze('구름 자연어 처리 전문가 양성 과정 1기에 오신 여러분을 환영합니다!')\n",
        "tokens = []\n",
        "for word in tokenized:\n",
        "    tokens.extend([str(m).split('/')[0] for m in word.morphs])\n",
        "\n",
        "print(tokens)"
      ],
      "execution_count": null,
      "outputs": []
    },
    {
      "cell_type": "markdown",
      "metadata": {
        "id": "4fY328Gu6qy5"
      },
      "source": [
        "### PyKoSpacing"
      ]
    },
    {
      "cell_type": "code",
      "metadata": {
        "id": "qLwdPupS5ifF"
      },
      "source": [
        "!pip install git+https://github.com/haven-jeon/PyKoSpacing.git"
      ],
      "execution_count": null,
      "outputs": []
    },
    {
      "cell_type": "code",
      "metadata": {
        "id": "U-XKh-nW6puT"
      },
      "source": [
        "sent = '구름 자연어 처리 전문가 양성 과정 1기에 오신 여러분을 환영합니다!'"
      ],
      "execution_count": null,
      "outputs": []
    },
    {
      "cell_type": "code",
      "metadata": {
        "id": "59Rjq1Gv7Kjv"
      },
      "source": [
        "new_sent = sent.replace(\" \", '') # 띄어쓰기가 없는 문장 임의로 만들기\n",
        "print(new_sent)"
      ],
      "execution_count": null,
      "outputs": []
    },
    {
      "cell_type": "code",
      "metadata": {
        "id": "iT-7fIvW7Lm8"
      },
      "source": [
        "from pykospacing import Spacing\n",
        "spacing = Spacing()\n",
        "kospacing_sent = spacing(new_sent) \n",
        "\n",
        "print('띄어쓰기가 없는 문장 :\\n', new_sent) \n",
        "print('정답 문장:\\n', sent) \n",
        "print('띄어쓰기 교정 후:\\n', kospacing_sent)"
      ],
      "execution_count": null,
      "outputs": []
    },
    {
      "cell_type": "markdown",
      "metadata": {
        "id": "U4Isiy1r98OT"
      },
      "source": [
        "### Py-Hanspell"
      ]
    },
    {
      "cell_type": "code",
      "metadata": {
        "id": "a6grkKkX7NiI"
      },
      "source": [
        "!pip install git+https://github.com/ssut/py-hanspell.git"
      ],
      "execution_count": null,
      "outputs": []
    },
    {
      "cell_type": "code",
      "metadata": {
        "id": "VFZk-TYx-AgN"
      },
      "source": [
        "from hanspell import spell_checker\n",
        "\n",
        "sent = \"맞춤법 틀리면 외 않되? 쓰고싶은대로쓰면돼지 \"\n",
        "spelled_sent = spell_checker.check(sent)\n",
        "\n",
        "hanspell_sent = spelled_sent.checked\n",
        "print(hanspell_sent)"
      ],
      "execution_count": null,
      "outputs": []
    },
    {
      "cell_type": "markdown",
      "metadata": {
        "id": "4napObNevG1U"
      },
      "source": [
        "\n",
        "### Crawling\n",
        "\n",
        "네이버 영화 감상평을 크롤링하고 정제해봅시다.\n",
        "Crawling 파트 강의를 들으면서 함께 실습을 진행하시면 됩니다."
      ]
    },
    {
      "cell_type": "code",
      "metadata": {
        "id": "JmRVS1U-Uw1d"
      },
      "source": [
        "from urllib.request import urlopen # 웹서버에 접근 모듈 \n",
        "from bs4 import BeautifulSoup # 웹페이지 내용구조 분석 모듈"
      ],
      "execution_count": null,
      "outputs": []
    },
    {
      "cell_type": "code",
      "metadata": {
        "id": "ud5KafK7vLaY"
      },
      "source": [
        "url='https://movie.naver.com/movie/bi/mi/pointWriteFormList.naver?code=187348&type=after&isActualPointWriteExecute=false&isMileageSubscriptionAlready=false&isMileageSubscriptionReject=false&page=1'\n",
        "html=urlopen(url)\n",
        "html_source = BeautifulSoup(html,'html.parser',from_encoding='utf-8') # 댓글 페이지를 utf-8형식으로 html 소스가져오기"
      ],
      "execution_count": null,
      "outputs": []
    },
    {
      "cell_type": "code",
      "metadata": {
        "id": "Efo0xpKuvaCo"
      },
      "source": [
        "print(html_source)"
      ],
      "execution_count": null,
      "outputs": []
    },
    {
      "cell_type": "markdown",
      "metadata": {
        "id": "XmW-E1MCzuiH"
      },
      "source": [
        "댓글 부분에 해당하는 요소를 확인하고 내용을 추출합니다."
      ]
    },
    {
      "cell_type": "code",
      "metadata": {
        "id": "9TkLAcWOvnSc"
      },
      "source": [
        "# 첫 번째 리뷰\n",
        "html_reviews = html_source.find('span',{'id': '_filtered_ment_0'}) \n",
        "print(html_reviews)"
      ],
      "execution_count": null,
      "outputs": []
    },
    {
      "cell_type": "code",
      "metadata": {
        "id": "v6xKmgUC1H7_"
      },
      "source": [
        "# 10명 리뷰 확인\n",
        "for i in range(10):\n",
        "    html_reviews = html_source.find('span',{'id': '_filtered_ment_'+str(i)}) \n",
        "    print(html_reviews)"
      ],
      "execution_count": null,
      "outputs": []
    },
    {
      "cell_type": "code",
      "metadata": {
        "id": "mtLop6M32zuF"
      },
      "source": [
        "# 10명 리뷰 확인, 불필요한 HTML 태그 제거하기\n",
        "for i in range(10):\n",
        "    html_reviews = html_source.find('span',{'id': '_filtered_ment_'+str(i)}) \n",
        "    print(html_reviews.text.strip())"
      ],
      "execution_count": null,
      "outputs": []
    },
    {
      "cell_type": "code",
      "metadata": {
        "id": "TncEqpQd3c0I"
      },
      "source": [
        "# 10 페이지에 대해 댓글 수집\n",
        "from urllib.request import urlopen # 웹서버에 접근 모듈 \n",
        "from bs4 import BeautifulSoup # 웹페이지 내용구조 분석 모듈\n",
        "\n",
        "reviews_list = []\n",
        "for j in range(1, 11):\n",
        "    url='https://movie.naver.com/movie/bi/mi/pointWriteFormList.naver?code=187348&type=after&isActualPointWriteExecute=false&isMileageSubscriptionAlready=false&isMileageSubscriptionReject=false&page='+str(j)\n",
        "    html=urlopen(url)\n",
        "    html_source = BeautifulSoup(html,'html.parser',from_encoding='utf-8') # 댓글 페이지를 utf-8형식으로 html 소스가져오기\n",
        "\n",
        "    for i in range(10):\n",
        "        html_reviews = html_source.find('span',{'id': '_filtered_ment_'+str(i)}) \n",
        "        reviews_list.append(html_reviews.text.strip())\n",
        "\n",
        "file = open('reviews.txt', 'w', encoding='utf-8')\n",
        "for review in reviews_list: # 요소를 1개의 행으로 저장되도록 개행문자 추가\n",
        "    file.write(review + '\\n') # 개행 문자 추가 --> Enter, 줄바꿈 효과 \n",
        "file.close()"
      ],
      "execution_count": null,
      "outputs": []
    },
    {
      "cell_type": "markdown",
      "metadata": {
        "id": "M86-WQzQ5A8D"
      },
      "source": [
        "크롤링한 데이터 전처리"
      ]
    },
    {
      "cell_type": "code",
      "metadata": {
        "id": "58wEPxiH4uAA"
      },
      "source": [
        "with open('reviews.txt', 'r', encoding='utf-8') as f:\n",
        "    review_data = f.readlines()\n",
        "\n",
        "f.close()"
      ],
      "execution_count": null,
      "outputs": []
    },
    {
      "cell_type": "code",
      "metadata": {
        "id": "OSlC2cAL5Hz5"
      },
      "source": [
        "len(review_data)"
      ],
      "execution_count": null,
      "outputs": []
    },
    {
      "cell_type": "code",
      "metadata": {
        "id": "vw1rqSQUVLbb"
      },
      "source": [
        "review_data"
      ],
      "execution_count": null,
      "outputs": []
    },
    {
      "cell_type": "markdown",
      "metadata": {
        "id": "OYCOwtG75XiC"
      },
      "source": [
        "한글만 남기고 다른 글자 제거"
      ]
    },
    {
      "cell_type": "code",
      "metadata": {
        "id": "bXqQbEU15IuH"
      },
      "source": [
        "import re\n",
        "\n",
        "tmp = re.sub('[^ 가-힣]', '', review_data[8])\n",
        "print(tmp)"
      ],
      "execution_count": null,
      "outputs": []
    },
    {
      "cell_type": "code",
      "metadata": {
        "id": "mPji4L4e6Pqz"
      },
      "source": [
        "tmp = re.sub(' +', ' ', tmp)\n",
        "print(tmp)"
      ],
      "execution_count": null,
      "outputs": []
    },
    {
      "cell_type": "code",
      "metadata": {
        "id": "9sV76A9O67SG"
      },
      "source": [
        "from pykospacing import Spacing\n",
        "\n",
        "spacing = Spacing()\n",
        "kospacing_sent = spacing(tmp) \n",
        "\n",
        "print(kospacing_sent)"
      ],
      "execution_count": null,
      "outputs": []
    },
    {
      "cell_type": "code",
      "metadata": {
        "id": "UAjowSa67I2-"
      },
      "source": [
        "from hanspell import spell_checker\n",
        "\n",
        "spelled_sent = spell_checker.check(tmp)\n",
        "\n",
        "hanspell_sent = spelled_sent.checked\n",
        "print(hanspell_sent)"
      ],
      "execution_count": null,
      "outputs": []
    },
    {
      "cell_type": "code",
      "metadata": {
        "id": "ouLxPt1IaY2O"
      },
      "source": [
        ""
      ],
      "execution_count": null,
      "outputs": []
    }
  ]
}