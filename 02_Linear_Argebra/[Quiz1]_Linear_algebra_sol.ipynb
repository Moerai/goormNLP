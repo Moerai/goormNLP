{
  "nbformat": 4,
  "nbformat_minor": 0,
  "metadata": {
    "colab": {
      "name": "[Quiz1] Linear algebra.ipynb",
      "provenance": [],
      "collapsed_sections": []
    },
    "kernelspec": {
      "name": "python3",
      "display_name": "Python 3"
    },
    "language_info": {
      "name": "python"
    }
  },
  "cells": [
    {
      "cell_type": "markdown",
      "metadata": {
        "id": "7UDJgH77FkFV"
      },
      "source": [
        "# Linear Algebra Quiz1\n",
        "\n",
        "> 해당 퀴즈에서는 강의에서 직접적으로 다루지 않은 문제들도 포함되어 있습니다. 성취도 확인용으로 진행되는 시험이니 한 주 동안 배운 내용을 복습하고 새로운 문제들을 공부하는 데 의미를 두시면 좋을 것 같습니다. 계산이 필요할 경우 손으로 계산하셔도 되고, 각자 colab을 켜서 numpy 등의 package를 사용하셔도 됩니다."
      ]
    },
    {
      "cell_type": "markdown",
      "metadata": {
        "id": "OytW8x6ZGNWg"
      },
      "source": [
        "## 다음 명제에 대해, True/False를 판단하시오. True일 경우 간략하게 이유를 서술하고, False일 경우 간략하게 이유를 설명하거나 반례를 드시오.\n",
        "\n",
        "\\\\\n",
        "\n",
        "행렬 $A,B$에 대해\n",
        "\n",
        "\\\\\n",
        "\n",
        "1. $A$와 $B$가 invertible 하다면, $(AB)^{-1} = A^{-1}B^{-1}$이 성립한다. \\\\\n",
        "\n"
      ]
    },
    {
      "cell_type": "markdown",
      "metadata": {
        "id": "87k24axTLS-D"
      },
      "source": [
        "A : False\n",
        "이유 : 행렬곱의 역행렬은 순서를 바꾼 역행렬의 곱과 같다.\n",
        "\n",
        "증명 : C를 곱AB의 역행렬이라고 하자 \n",
        "\n",
        "$C(AB)=I$\n",
        "\n",
        "$CAB=I$\n",
        "\n",
        "양변에 $B^{-1}A^{-1}$를 곱해보자\n",
        "\n",
        "$CAB(B^{-1}A^{-1})=IB^{-1}A^{-1}$\n",
        "\n",
        "$CABB^{-1}A^{-1}=IB^{-1}A^{-1}$\n",
        "\n",
        "$CAA^{-1}=IB^{-1}A^{-1}$\n",
        "\n",
        "$C=B^{-1}A^{-1}$\n",
        "---\n",
        "\n"
      ]
    },
    {
      "cell_type": "markdown",
      "metadata": {
        "id": "sKeXz3edLNgq"
      },
      "source": [
        "2. $\\begin{bmatrix} 1 & 1 \\\\ 0 & 1 \\\\ 0 & 0 \\end{bmatrix} \\begin{bmatrix}x1\\\\x2\\end{bmatrix} = \\begin{bmatrix} 3 \\\\ 1 \\\\ 0\\end{bmatrix}$는 해가 존재한다. \\\\"
      ]
    },
    {
      "cell_type": "markdown",
      "metadata": {
        "id": "MJSRde5dLSes"
      },
      "source": [
        "A:True\n",
        "\n",
        "x1=2, x2=1일 때, 주어진 등식이 성립한다. \n",
        "\n",
        "---\n",
        "\n"
      ]
    },
    {
      "cell_type": "markdown",
      "metadata": {
        "id": "QiMjE83JLPCI"
      },
      "source": [
        "3. $\\begin{bmatrix} 1 & 1 \\\\ 0 & 1 \\\\ 0 & 0 \\end{bmatrix} \\begin{bmatrix}x1\\\\x2\\end{bmatrix} = \\begin{bmatrix} 3 \\\\ 1 \\\\ 1\\end{bmatrix}$은 해가 존재한다. \\\\\n"
      ]
    },
    {
      "cell_type": "markdown",
      "metadata": {
        "id": "PJ504uRwLSJ7"
      },
      "source": [
        "A: False\n",
        "\n",
        "[3, 1, 1]은 ([1,0,0],[1,1,0]) Span에 들어가지 않는다.\n",
        "\n",
        "---\n",
        "\n"
      ]
    },
    {
      "cell_type": "markdown",
      "metadata": {
        "id": "hDaT_j6BKIYo"
      },
      "source": [
        "4. $\\begin{bmatrix} 3 & 2 \\\\ 5 & 1 \\\\ 0 & 0 \\end{bmatrix}$의 column space는 span($\\{ \\begin{bmatrix} 1 \\\\ 0 \\\\ 0\\end{bmatrix}, \\begin{bmatrix} 0 \\\\ 1 \\\\ 0\\end{bmatrix}\\}$)과 같다. \\\\"
      ]
    },
    {
      "cell_type": "markdown",
      "metadata": {
        "id": "KSjmyiTBLVMJ"
      },
      "source": [
        "A: True\n",
        "\n",
        "주어진 행렬의 column space는 [1,0,0]과 [0,1,0]으로 표현 할 수 있다.\n",
        "\n",
        "---\n",
        "\n"
      ]
    },
    {
      "cell_type": "markdown",
      "metadata": {
        "id": "6iNk1_IiLVoS"
      },
      "source": [
        "5. $R^2$는 $R^3$의 subspace이다."
      ]
    },
    {
      "cell_type": "markdown",
      "metadata": {
        "id": "SXuttmbKLXXa"
      },
      "source": [
        "A:False\n",
        "\n",
        "그럴 수도 있지만, 항상 그런 것은 아니다.\n",
        "\n",
        "---\n",
        "\n"
      ]
    },
    {
      "cell_type": "markdown",
      "metadata": {
        "id": "kc17U-h9LUQh"
      },
      "source": [
        "6. Vector $x \\in R^2$에 대한 Transformation $T_1$: (1) x축에 대해 reflection 후 (2) y축에 대해 reflection. \\\\\n",
        " Vector $x \\in R^2$에 대한 Transformatiopn $T_2$: 시계방향으로 180도 회전. \\\\\n",
        " 이때 $T_1$은 $T_2$와 같다. \\\\"
      ]
    },
    {
      "cell_type": "markdown",
      "metadata": {
        "id": "BC28Z883LaKW"
      },
      "source": [
        "A:True\n",
        "\n",
        "T1를 $(x_{1}, y_{1})$이라고 하자, x축에 대해 reflection을 하면, $(x_{1}, -y_{1})$그리고 y 축에 대해 reflection을 하면 $(-x_{1}, -y_{1})$이 된다.\n",
        "\n",
        "마찬가지로 T2를 $(x_{2}, y_{2})$라고 하고, 시계방향으로 180도 회전하면, $(-x_{2}, -y_{2})$가 된다.\n",
        "\n",
        "$x_1=x_2$ and $y_1=y_2$ 라면 $T_1=T_2$이다.\n",
        "\n",
        "---\n",
        "\n"
      ]
    },
    {
      "cell_type": "markdown",
      "metadata": {
        "id": "fXTB1ua6KGWT"
      },
      "source": [
        "7. A,B가 각각 invertible하면, $(A+B)^{-1} = A^{-1} + B^{-1}$ 이다."
      ]
    },
    {
      "cell_type": "markdown",
      "metadata": {
        "id": "Hr6CAJ7OLblJ"
      },
      "source": [
        "A:False\n",
        "\n",
        "불가능한 예가 있다.\n",
        "\n",
        "---\n",
        "\n"
      ]
    },
    {
      "cell_type": "markdown",
      "metadata": {
        "id": "yHG2CI26LkeH"
      },
      "source": [
        "8. $T(x) = Ax = \\begin{bmatrix} 3 & 2 \\\\ 5 & 1 \\\\ 0 & 0 \\end{bmatrix}\\begin{bmatrix}x_1\\\\x_2\\end{bmatrix}$는 $R^2$에서 $R^3$으로 ONTO mapping하는 transformation이다."
      ]
    },
    {
      "cell_type": "markdown",
      "metadata": {
        "id": "ESCBKi1CMys3"
      },
      "source": [
        "A:False\n",
        "\n",
        "$R^2$는 $R^3$ 공간내의 단일 평면이므로 전사할 수 없다.\n",
        "\n",
        "---\n",
        "\n"
      ]
    },
    {
      "cell_type": "markdown",
      "metadata": {
        "id": "TSUQ1dZHM0Jt"
      },
      "source": [
        "9. $T(x) = Ax = \\begin{bmatrix} 3 & 2 \\\\ 5 & 1 \\\\ 0 & 0 \\end{bmatrix}\\begin{bmatrix}x_1\\\\x_2\\end{bmatrix}$는 $R^2$에서 $R^3$으로 one-to-one mapping하는 transformation이다."
      ]
    },
    {
      "cell_type": "markdown",
      "metadata": {
        "id": "BToGQpKpM4ja"
      },
      "source": [
        "A:True\n",
        "\n",
        "$Ax$ 내의 $x_1\\left[\\begin{matrix} 3 & 5 & 0 \\end{matrix} \\right]+ x_2\\left[\\begin{matrix} 2 & 1 & 0 \\end{matrix} \\right]$로 표현될 수 있으며, 이 때 $x_1$과 $x_2$는 1대 1 Mapping이 된다.\n",
        "\n",
        "---\n",
        "\n"
      ]
    },
    {
      "cell_type": "markdown",
      "metadata": {
        "id": "wDVr916dFx0s"
      },
      "source": [
        "10. $T(x) = Ax = \\begin{bmatrix} 1 & 0 &0&5&0\\\\ 0 & 1 &0&1&0\\\\ 0 & 0&1&0&0\\\\0&0&0&0&1 \\end{bmatrix}\\begin{bmatrix}x_1\\\\x_2\\\\x_3\\\\x_4\\\\x_5\\end{bmatrix}$는 $R^5$에서 $R^4$으로 ONTO mapping하는 transformation이다."
      ]
    },
    {
      "cell_type": "markdown",
      "metadata": {
        "id": "NxWInuOKOoT0"
      },
      "source": [
        "A.True\n",
        "\n",
        "$R^5$는 $R^4$로 ONTO mapping 할 수 있다.\n",
        "\n",
        "---\n",
        "\n"
      ]
    },
    {
      "cell_type": "markdown",
      "metadata": {
        "id": "ILg0hNiCOqyj"
      },
      "source": [
        "11. $T(x) = Ax = \\begin{bmatrix} 1 & 0 &0&5&0\\\\ 0 & 1 &0&1&0\\\\ 0 & 0&1&0&0\\\\0&0&0&0&1 \\end{bmatrix}\\begin{bmatrix}x_1\\\\x_2\\\\x_3\\\\x_4\\\\x_5\\end{bmatrix}$는 $R^5$에서 $R^4$으로 one-to-one mapping하는 transformation이다."
      ]
    },
    {
      "cell_type": "markdown",
      "metadata": {
        "id": "MkcXZLycOwa5"
      },
      "source": [
        "A.False\n",
        "\n",
        "$R^5$에서 $R^4$로 모든 column이 1대 1 대응 되지 않는다.\n",
        "\n",
        "---\n",
        "\n"
      ]
    },
    {
      "cell_type": "markdown",
      "metadata": {
        "id": "dB-AgyBNOuRF"
      },
      "source": [
        "12. $T: R^n \\rightarrow R^n$ 인 $T$가 one-to-one linear transformation이면, $T$는 ONTO linear transformation이다."
      ]
    },
    {
      "cell_type": "markdown",
      "metadata": {
        "id": "GUh4yO_rPdbz"
      },
      "source": [
        "A.False \n",
        "\n",
        "#### 단사함수 중에는 전사함수가 아닌경우도 존재한다.\n",
        "---\n",
        "\n"
      ]
    },
    {
      "cell_type": "markdown",
      "metadata": {
        "id": "OqHGwpcNPe8A"
      },
      "source": [
        "13. $T: R^n \\rightarrow R^n$ 인 $T$가 ONTO linear transformation이면, $T$는 one-to-one linear transformation이다."
      ]
    },
    {
      "cell_type": "markdown",
      "metadata": {
        "id": "fCErzrXoPjYd"
      },
      "source": [
        "A. False\n",
        "전사함수 중에는 1:1 대응이 아닌함수도 있다.\n",
        "\n",
        "---\n",
        "\n"
      ]
    },
    {
      "cell_type": "markdown",
      "metadata": {
        "id": "IoN8YpEmPk0d"
      },
      "source": [
        "14. $A$가 $n \\times n$ matrix이면서 rank가 $n$인 경우, $A$는 invertible 하다."
      ]
    },
    {
      "cell_type": "markdown",
      "metadata": {
        "id": "QxrBJ8MzXhlm"
      },
      "source": [
        "A.True\n",
        "\n",
        "n x n matrix에서 rank가 n이면 column들이 선형 독립이므로 A는 invertible하다. \n",
        "\n",
        "---\n",
        "\n",
        "\n",
        "\n",
        "---\n",
        "\n"
      ]
    },
    {
      "cell_type": "markdown",
      "metadata": {
        "id": "zeIEt1kGXlgO"
      },
      "source": [
        "15. $A = \\begin{bmatrix} 1 & 1 & 1\\\\ 2 & 2& 2 \\\\ 3 & 3& 3 \\end{bmatrix}$은 invertible하지 않다."
      ]
    },
    {
      "cell_type": "markdown",
      "metadata": {
        "id": "kXRcSYA6YmGd"
      },
      "source": [
        "A.True\n",
        "\n",
        "A의 column들은 서로 linearly dependnt하다\n",
        "---\n",
        "\n"
      ]
    },
    {
      "cell_type": "markdown",
      "metadata": {
        "id": "-b61bc66Ymix"
      },
      "source": [
        "16. $A$와 $B$의 rank가 같다면, 두 matrix의 shape은 같다."
      ]
    },
    {
      "cell_type": "markdown",
      "metadata": {
        "id": "sTNrUS7oZfSe"
      },
      "source": [
        "A.Fase\n",
        "\n",
        "rank가 같지만 shape은 다를 수 있다.\n",
        "\n",
        "---\n",
        "\n"
      ]
    },
    {
      "cell_type": "markdown",
      "metadata": {
        "id": "z0pZv776ZgHn"
      },
      "source": [
        "17. $AB = BC$이면, $B=C$이다."
      ]
    },
    {
      "cell_type": "markdown",
      "metadata": {
        "id": "5tM8vpIyZhs3"
      },
      "source": [
        "A.False\n",
        "\n",
        "다른게 자명하다\n",
        "\n",
        "---\n",
        "\n"
      ]
    },
    {
      "cell_type": "markdown",
      "metadata": {
        "id": "Y0_zeisxZt8v"
      },
      "source": [
        "18. $B = A^TA$이면, $B$는 symmetric matrix이다."
      ]
    },
    {
      "cell_type": "markdown",
      "metadata": {
        "id": "HF98eLXsZ79T"
      },
      "source": [
        "A.True\n",
        "\n",
        "$B^T = (A^TA)^T = A^T(A^T)^T = A^TA = B $\n",
        "\n",
        "---\n",
        "\n"
      ]
    },
    {
      "cell_type": "markdown",
      "metadata": {
        "id": "YB9qNFIDZvpn"
      },
      "source": [
        "19. Vector $v_1, v_2, v_3, v_4, v_5$가 $R^5$를 span한다면, 저 다섯 vector는 서로 linearly independent하다."
      ]
    },
    {
      "cell_type": "markdown",
      "metadata": {
        "id": "cnDN-ri_c7eQ"
      },
      "source": [
        "A. True\n",
        "\n",
        "#### $R^5$ 에서 $R^5$로의 선형 변환에 대해서 5개의 vector들이 span한다면, vector들은 서로 indepenndent하다.\n",
        "---\n",
        "\n"
      ]
    },
    {
      "cell_type": "markdown",
      "metadata": {
        "id": "MA13PNouc8F-"
      },
      "source": [
        "20. $v_1, v_2, v_3 \\in R^3$인 세 vector가 서로 linearly dependent 하다면, 세 vector를 칼럼으로 하는 matrix $A = \\begin{bmatrix} \\mid & \\mid & \\mid \\\\ v_1 & v_2 & v_3 \\\\ \\mid & \\mid & \\mid  \\end{bmatrix}$는 invertible하지 않다."
      ]
    },
    {
      "cell_type": "markdown",
      "metadata": {
        "id": "IT_-fvEVZ54x"
      },
      "source": [
        "A. True\n",
        "\n",
        "$v_1, v_2, v_3$이 $R^3$에서 서로 independent 한다면, 이를 칼럼으로하는 matrix A는 invertible하다\n",
        "\n",
        "---\n",
        "\n"
      ]
    },
    {
      "cell_type": "markdown",
      "metadata": {
        "id": "ne3rE5yWaJNb"
      },
      "source": [
        "21. $v_1, v_2 \\in R^3$인 두 vector가 span하는 subspace는 평면이다 (2 dimensional subspace)."
      ]
    },
    {
      "cell_type": "markdown",
      "metadata": {
        "id": "8Rx_9cMxaw4d"
      },
      "source": [
        "A.False\n",
        "\n",
        "$R^3$에서이므로 subspace는 직선일 수도 있다.\n",
        "\n",
        "---\n",
        "\n"
      ]
    },
    {
      "cell_type": "markdown",
      "metadata": {
        "id": "PCaKfiFOaxpe"
      },
      "source": [
        "22. Normal equation은 해가 항상 존재한다."
      ]
    },
    {
      "cell_type": "markdown",
      "metadata": {
        "id": "iLTgqoAoeDgC"
      },
      "source": [
        "A. True\n",
        "\n",
        "#### 해는 한 개 or 무수히 많이 존재한다.\n",
        "---\n",
        "\n"
      ]
    },
    {
      "cell_type": "markdown",
      "metadata": {
        "id": "2UI1Hy5qeECr"
      },
      "source": [
        "23. $m \\times n$ matrix $A$의 column vector $v_1,v_2, \\cdots, v_n$이 orthonormal 하다면,  $AA^Tx$는 $x$를 Col $A$에 orthogonal projection하는 matrix이다."
      ]
    },
    {
      "cell_type": "markdown",
      "metadata": {
        "id": "ztK4wjlFaJXc"
      },
      "source": [
        " A. True\n",
        "\n",
        "Orthonormal은 orthogonal의 충분조건이다.\n",
        "---\n",
        "\n"
      ]
    },
    {
      "cell_type": "markdown",
      "metadata": {
        "id": "UASni6U232y8"
      },
      "source": [
        "24. $m \\times n$ matrix $A$의 column vector $v_1,v_2, \\cdots, v_n$이 서로 linearly independent 하다고 하자. 그렇다면 $v_1,v_2, \\cdots, v_n$에 Gram-Schmidt를 적용하면 Col $A$의 orthogonal basis가 된다."
      ]
    },
    {
      "cell_type": "markdown",
      "metadata": {
        "id": "m_aJk5EK348-"
      },
      "source": [
        "A.True\n",
        "\n",
        "Gram-Schmidt를 적용하면 orthonormal한 백터를 구할 수 있고 이는 Col A의 orthogonal basis다.\n",
        "\n",
        "---\n",
        "\n"
      ]
    },
    {
      "cell_type": "markdown",
      "metadata": {
        "id": "P4Nf84rW35oP"
      },
      "source": [
        "25. Subspace $V$ = span ($\\Bigg\\{ \\begin{bmatrix} 3 \\\\ 1 \\\\ 0\\end{bmatrix}\\, \\begin{bmatrix} 1 \\\\ 2 \\\\ 0\\end{bmatrix}\\Bigg\\}$)라고 하자. 이때 ($\\Bigg\\{ \\begin{bmatrix} 1 \\\\ 1 \\\\ 0\\end{bmatrix}\\, \\begin{bmatrix} 0 \\\\ 0 \\\\ 1\\end{bmatrix}\\Bigg\\}$)은 $V$의 orthogonal basis가 된다."
      ]
    },
    {
      "cell_type": "markdown",
      "metadata": {
        "id": "g5pqFJ-f364s"
      },
      "source": [
        "A. False\n",
        "\n",
        "[0 0 1]은 V의 원소가 아니다.\n",
        "\n",
        "---\n",
        "\n"
      ]
    },
    {
      "cell_type": "markdown",
      "metadata": {
        "id": "G_7pVdqM37e6"
      },
      "source": [
        "26. 어떤 임의의 n개의 vector set이 주어졌을 때, Gram-Schmidt orthonormalization을 이용하면, 서로 orthonormal한 n개의 vector set으로 만들 수 있다."
      ]
    },
    {
      "cell_type": "markdown",
      "metadata": {
        "id": "lh9vdx1i384j"
      },
      "source": [
        "A.False\n",
        "\n",
        "linearly independent한 n개의 vector set이 주어져야 한다.\n",
        "\n",
        "---\n",
        "\n"
      ]
    },
    {
      "cell_type": "markdown",
      "metadata": {
        "id": "GsYrYoROGt47"
      },
      "source": [
        "27. $A^TA=0$이면, $A=0$이다."
      ]
    },
    {
      "cell_type": "markdown",
      "metadata": {
        "id": "29ecICTyHxXp"
      },
      "source": [
        "A.False\n",
        "\n",
        "0행렬이 아닐 수도 있다.\n",
        "\n",
        "---\n",
        "\n"
      ]
    },
    {
      "cell_type": "markdown",
      "metadata": {
        "id": "w-NamE7UHyCJ"
      },
      "source": [
        "28.  $x_1=x_3$를 만족하는 vector $x=\\begin{bmatrix}x_1\\\\x_2\\\\x_3\\end{bmatrix}$의 set을 $H$라고 하자. $H$는 $R^3$의 subspace이다."
      ]
    },
    {
      "cell_type": "markdown",
      "metadata": {
        "id": "7ORa6wKLN3L3"
      },
      "source": [
        "A. True\n",
        "\n",
        "H는 $R^3$의 subspace이다.\n",
        "\n",
        "---\n",
        "\n"
      ]
    },
    {
      "cell_type": "markdown",
      "metadata": {
        "id": "tj1ZH9iQN3_K"
      },
      "source": [
        "29. $x_2=1$를 만족하는 vector $x=\\begin{bmatrix}x_1\\\\x_2\\\\x_3\\end{bmatrix}$의 set을 $H$라고 하자. $H$는 $R^3$의 subspace이다.\n"
      ]
    },
    {
      "cell_type": "markdown",
      "metadata": {
        "id": "QBL2L_fcNMSG"
      },
      "source": [
        "A. False\n",
        "\n",
        "0 vector를 포함하지 못한다.\n",
        "\n",
        "---\n",
        "\n"
      ]
    },
    {
      "cell_type": "markdown",
      "metadata": {
        "id": "jbbAoZjXOGIZ"
      },
      "source": [
        "30. $x_1x_2=0$를 만족하는 vector $x=\\begin{bmatrix}x_1\\\\x_2\\\\x_3\\end{bmatrix}$의 set을 $H$라고 하자. $H$는 $R^3$의 subspace이다.\n"
      ]
    },
    {
      "cell_type": "markdown",
      "metadata": {
        "id": "pQZ1_R-iOGKW"
      },
      "source": [
        "A.True\n",
        "\n",
        "H는 $R^3$의 subspace이다.\n",
        "\n",
        "---\n",
        "\n"
      ]
    },
    {
      "cell_type": "markdown",
      "metadata": {
        "id": "AIqhJvWJOGMX"
      },
      "source": [
        "31. $x_1+x_2+x_3=0$를 만족하는 vector $x=\\begin{bmatrix}x_1\\\\x_2\\\\x_3\\end{bmatrix}$의 set을 $H$라고 하자. $H$는 $R^3$의 subspace이다.\n"
      ]
    },
    {
      "cell_type": "markdown",
      "metadata": {
        "id": "pdIzoVhpOGOQ"
      },
      "source": [
        "A. True\n",
        "\n",
        "H는 $R^3$의 subspace이다\n",
        "\n",
        "---\n",
        "\n"
      ]
    },
    {
      "cell_type": "markdown",
      "metadata": {
        "id": "zx7abeVJPhf_"
      },
      "source": [
        "32. span$\\Bigg\\{\\begin{bmatrix}1 \\\\ 2 \\\\ 3 \\end{bmatrix}, \\begin{bmatrix}1 \\\\ 3 \\\\ 5 \\end{bmatrix} \\Bigg\\}$를  $H$라고 하자. $H$는 $R^3$의 subspace이다.\n"
      ]
    },
    {
      "cell_type": "markdown",
      "metadata": {
        "id": "0s_wTu57O9cG"
      },
      "source": [
        "A.True\n",
        "\n",
        "해당 메트릭스는 원점을 지나는 단일 평면이 된다.\n",
        "\n",
        "---\n",
        "\n"
      ]
    },
    {
      "cell_type": "markdown",
      "metadata": {
        "id": "KSgA0etYQzsW"
      },
      "source": [
        "33. 어떤 vector $x$를 subspace $H$로 orthogonal projection 하는 matrix는 여러 개가 나올 수 있다."
      ]
    },
    {
      "cell_type": "markdown",
      "metadata": {
        "id": "o0UMIr_XQ-8t"
      },
      "source": [
        "A.False\n",
        "\n",
        "orthogonal projection 하는 matrix는 한개로 정해진다.\n",
        "\n",
        "---\n",
        "\n"
      ]
    },
    {
      "cell_type": "markdown",
      "metadata": {
        "id": "KqQM7cs3RAAS"
      },
      "source": [
        "34. Least square 문제에서 error, $b - Ax$는 0이 나올 수 없다."
      ]
    },
    {
      "cell_type": "markdown",
      "metadata": {
        "id": "K6quBrfQRBbD"
      },
      "source": [
        "A.False\n",
        "\n",
        "해가 유일하게 정해지면 error는 0이 될 수 있다.\n",
        "\n",
        "---\n",
        "\n"
      ]
    },
    {
      "cell_type": "markdown",
      "metadata": {
        "id": "SKZS9f3PRCEf"
      },
      "source": [
        "35. QR factorization은 square matrix에만 할 수 있다.  "
      ]
    },
    {
      "cell_type": "markdown",
      "metadata": {
        "id": "FNcTLayLRC39"
      },
      "source": [
        "A. False\n",
        "\n",
        "#### Gram-Schmidz 방법으로 Q와 R을 구할 수 있다.\n",
        "---\n",
        "\n"
      ]
    }
  ]
}