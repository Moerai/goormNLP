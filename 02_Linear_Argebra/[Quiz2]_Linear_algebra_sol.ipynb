{
  "nbformat": 4,
  "nbformat_minor": 0,
  "metadata": {
    "colab": {
      "name": "[Quiz2] Linear algebra.ipynb",
      "provenance": [],
      "collapsed_sections": []
    },
    "kernelspec": {
      "name": "python3",
      "display_name": "Python 3"
    },
    "language_info": {
      "name": "python"
    }
  },
  "cells": [
    {
      "cell_type": "markdown",
      "metadata": {
        "id": "7UDJgH77FkFV"
      },
      "source": [
        "# Linear Algebra Quiz2\n",
        "\n",
        "> 해당 퀴즈에서는 강의에서 직접적으로 다루지 않은 문제들도 포함되어 있습니다. 성취도 확인용으로 진행되는 시험이니 한 주 동안 배운 내용을 복습하고 새로운 문제들을 공부하는 데 의미를 두시면 좋을 것 같습니다. 계산이 필요할 경우 손으로 계산하셔도 되고, 각자 colab을 켜서 numpy 등의 package를 사용하셔도 됩니다.\n",
        "\n",
        "> 참고: Quiz1보다 약간 더 헷갈리실 수 있습니다."
      ]
    },
    {
      "cell_type": "markdown",
      "metadata": {
        "id": "OytW8x6ZGNWg"
      },
      "source": [
        "## 다음 명제에 대해, True/False를 판단하시오. True일 경우 간략하게 이유를 서술하고, False일 경우 간략하게 이유를 설명하거나 반례를 드시오.\n",
        "\n",
        "\\\\\n",
        "\n",
        "행렬 $A,B$에 대해\n",
        "\n",
        "\\\\\n",
        "\n",
        "1. $A$와 $B$가 diagonalizable 하다면, $A^3$도 diagonalizable하다. \\\\\n",
        "\n"
      ]
    },
    {
      "cell_type": "markdown",
      "metadata": {
        "id": "87k24axTLS-D"
      },
      "source": [
        "A:True\n",
        "\n",
        "> A가 diagonalizable하다면 A x A x A을 하여도 0이 아닌 원소끼리 계산이 될 것이므로 diagonalizable하다.\n",
        "\n",
        "---\n",
        "\n"
      ]
    },
    {
      "cell_type": "markdown",
      "metadata": {
        "id": "sKeXz3edLNgq"
      },
      "source": [
        "2. $A$가 3개의 linearly independent한 eigenvectors를 가진 3x3 matrix라면,  $A$는 diagonalizable하다. \\\\"
      ]
    },
    {
      "cell_type": "markdown",
      "metadata": {
        "id": "MJSRde5dLSes"
      },
      "source": [
        "A:True\n",
        "\n",
        "> 서로 independent하고 eigenvector하면, 각 백터는 겹치는 일 없이 수직관계이므로 A는 diagonalizable하다.\n",
        "---\n",
        "\n"
      ]
    },
    {
      "cell_type": "markdown",
      "metadata": {
        "id": "gSQKRH03guj7"
      },
      "source": [
        "3. $A$가 eigenvalue $\\lambda = 1,2,3$을 갖고 있는 3x3 matrix라면, $A$는 invertible하다. \\\\\n"
      ]
    },
    {
      "cell_type": "markdown",
      "metadata": {
        "id": "PJ504uRwLSJ7"
      },
      "source": [
        "\n",
        "\n",
        "A:True\n",
        "\n",
        "> 0아닌 eigenvalue를 가지고 있다면, 역행렬이 존재하며 그 역행렬의 고유값은 1,2,3의 역수이다.\n",
        "\n",
        "---\n",
        "\n"
      ]
    },
    {
      "cell_type": "markdown",
      "metadata": {
        "id": "hDaT_j6BKIYo"
      },
      "source": [
        "4. $A$가 eigenvalue $\\lambda = 0,1,2$을 갖고 있는 3x3 matrix라면, $A$는 invertible하다. \\\\\n"
      ]
    },
    {
      "cell_type": "markdown",
      "metadata": {
        "id": "KSjmyiTBLVMJ"
      },
      "source": [
        "A: False\n",
        "\n",
        "> det(A - 0I) = 0\n",
        "\n",
        "> 즉, A는 역행렬을 갖지 않는다.\n",
        "---\n",
        "\n"
      ]
    },
    {
      "cell_type": "markdown",
      "metadata": {
        "id": "6iNk1_IiLVoS"
      },
      "source": [
        "5. $A$가 eigenvalue $\\lambda = 1,2,3$을 갖고 있는 3x3 matrix라면, $A$는 항상 diagonalizable하다. \\\\"
      ]
    },
    {
      "cell_type": "markdown",
      "metadata": {
        "id": "SXuttmbKLXXa"
      },
      "source": [
        "A:True\n",
        "\n",
        "> $\\lambda$가 중근을 갖지 않으므로 diagonalizable하다.\n",
        "\n",
        "---\n",
        "\n"
      ]
    },
    {
      "cell_type": "markdown",
      "metadata": {
        "id": "kc17U-h9LUQh"
      },
      "source": [
        "6. $A$가 eigenvalue $\\lambda = 0,1,2$을 갖고 있는 3x3 matrix라면, $A$는 항상 diagonalizable하다. \\\\"
      ]
    },
    {
      "cell_type": "markdown",
      "metadata": {
        "id": "BC28Z883LaKW"
      },
      "source": [
        "A:True\n",
        "\n",
        "> 위와 동일하게 $\\lambda$가 중근을 갖지 않으므로 diagonalizable하다.\n",
        "\n",
        "---\n",
        "\n"
      ]
    },
    {
      "cell_type": "markdown",
      "metadata": {
        "id": "fXTB1ua6KGWT"
      },
      "source": [
        "7. $A$가 diagonalizable하면, $A$는 invertible하다."
      ]
    },
    {
      "cell_type": "markdown",
      "metadata": {
        "id": "Hr6CAJ7OLblJ"
      },
      "source": [
        "A:False\n",
        "\n",
        "> 영행렬은 non-invertible 하다.\n",
        "---\n",
        "\n"
      ]
    },
    {
      "cell_type": "markdown",
      "metadata": {
        "id": "yHG2CI26LkeH"
      },
      "source": [
        "8. $A$가 invertible하면, $A$는 diagonalizable하다."
      ]
    },
    {
      "cell_type": "markdown",
      "metadata": {
        "id": "ESCBKi1CMys3"
      },
      "source": [
        "A:False\n",
        "\n",
        "> 역행렬을 가지고 있으면 다 대각화가 가능하다는 것도 말이 안된다.\n",
        "---\n",
        "\n"
      ]
    },
    {
      "cell_type": "markdown",
      "metadata": {
        "id": "TSUQ1dZHM0Jt"
      },
      "source": [
        "9. $A$가 eigenvalue를 단 한개만 가진다면, $A$는 diagonalizable하지 않다."
      ]
    },
    {
      "cell_type": "markdown",
      "metadata": {
        "id": "BToGQpKpM4ja"
      },
      "source": [
        "A:False\n",
        "\n",
        "> eigenvalue가 몇 개인지는 diagonalizable과 연관이 없다.\n",
        "\n",
        "---\n",
        "\n"
      ]
    },
    {
      "cell_type": "markdown",
      "metadata": {
        "id": "wDVr916dFx0s"
      },
      "source": [
        "10. $v_1,v_2$가 matrix $A$의 서로 다른 eigenvalues $\\lambda_1,\\lambda_2$에 해당하는 eigenvectors라면, $v_1$과 $v_2$는 linearly independent하다."
      ]
    },
    {
      "cell_type": "markdown",
      "metadata": {
        "id": "NxWInuOKOoT0"
      },
      "source": [
        "A. True\n",
        "\n",
        ">   $v_1,v_2$가 matrix $A$의 **서로 다른** eigenvalues $\\lambda_1,\\lambda_2$에 해당하는 eigenvectors이므로 $v_1,v_2$는 linearly independent하다.\n",
        "\n",
        "> <a href = https://www.statlect.com/matrix-algebra/linear-independence-of-eigenvectors> 증명 </a>\n",
        "\n",
        "---\n",
        "\n"
      ]
    },
    {
      "cell_type": "markdown",
      "metadata": {
        "id": "ILg0hNiCOqyj"
      },
      "source": [
        "11. $A$가 symmetric matrix라면, $A$의 모든 eigenvector는 서로 orthogonal 하다."
      ]
    },
    {
      "cell_type": "markdown",
      "metadata": {
        "id": "MkcXZLycOwa5"
      },
      "source": [
        "A.False\n",
        "\n",
        "> 서로다른 고유값에 해당하는 eigenvector는 orthogonal하지만, 모든 eigenvector는 아니다. \n",
        "\n",
        "> <a href = https://pasus.tistory.com/9> 증명 </a>\n",
        "---\n",
        "\n"
      ]
    },
    {
      "cell_type": "markdown",
      "metadata": {
        "id": "dB-AgyBNOuRF"
      },
      "source": [
        "12. $A$가 nxn matrix라면, $A$는 최대 n개의 eigenvalues를 가질 수 있다."
      ]
    },
    {
      "cell_type": "markdown",
      "metadata": {
        "id": "GUh4yO_rPdbz"
      },
      "source": [
        "A.True\n",
        "\n",
        "> 최대 n개의 eigenvalues를 갖는다.\n",
        "\n",
        "---\n",
        "\n"
      ]
    },
    {
      "cell_type": "markdown",
      "metadata": {
        "id": "OqHGwpcNPe8A"
      },
      "source": [
        "13. $v$가 $A$의 eigenvector라면, $v \\neq 0$이다."
      ]
    },
    {
      "cell_type": "markdown",
      "metadata": {
        "id": "fCErzrXoPjYd"
      },
      "source": [
        "A.True\n",
        "\n",
        "> eigenvector의 정의에 부합하다.\n",
        "\n",
        "---\n",
        "\n"
      ]
    },
    {
      "cell_type": "markdown",
      "metadata": {
        "id": "IoN8YpEmPk0d"
      },
      "source": [
        "14. $\\lambda$가 $A$의 eigenvalue라면, $\\lambda \\neq 0$이다."
      ]
    },
    {
      "cell_type": "markdown",
      "metadata": {
        "id": "QxrBJ8MzXhlm"
      },
      "source": [
        "A.False\n",
        "\n",
        "> eigenvalue에는 0이 있을 수도있다\n",
        "---\n",
        "\n"
      ]
    },
    {
      "cell_type": "markdown",
      "metadata": {
        "id": "zeIEt1kGXlgO"
      },
      "source": [
        "15. $A$의 모든 eigenvalues가 0이라면, $A=0$이다."
      ]
    },
    {
      "cell_type": "markdown",
      "metadata": {
        "id": "kXRcSYA6YmGd"
      },
      "source": [
        "A. False\n",
        "\n",
        "> [[0, 1],[0, 0]]라는 반례가 있다.\n",
        "\n",
        "---\n",
        "\n"
      ]
    },
    {
      "cell_type": "markdown",
      "metadata": {
        "id": "-b61bc66Ymix"
      },
      "source": [
        "16. $A$의 모든 eigenvalues가 1이라면, $A=I$이다."
      ]
    },
    {
      "cell_type": "markdown",
      "metadata": {
        "id": "sTNrUS7oZfSe"
      },
      "source": [
        "A. False\n",
        "\n",
        "> [[1, 1],[0, 1]]라는 반례가 있다.\n",
        "\n",
        "\n",
        "\n",
        "---\n",
        "\n"
      ]
    },
    {
      "cell_type": "markdown",
      "metadata": {
        "id": "z0pZv776ZgHn"
      },
      "source": [
        "17. $A^2=0$인 matrix $A$는, 0 외의 다른 eigenvalue를 가질 수 있다."
      ]
    },
    {
      "cell_type": "markdown",
      "metadata": {
        "id": "5tM8vpIyZhs3"
      },
      "source": [
        "A. False\n",
        "\n",
        "> $ A^v = \\lambda v = 0$에서 v가 영백터가 될 수는 없으므로 $\\lambda$가 0일 수 밖에 없다. \n",
        "\n",
        "---\n",
        "\n"
      ]
    },
    {
      "cell_type": "markdown",
      "metadata": {
        "id": "Y0_zeisxZt8v"
      },
      "source": [
        "18. $\\lambda$가 $A$의 eigenvalue라면, $\\lambda$는 $A^T$의 eigenvalue이다."
      ]
    },
    {
      "cell_type": "markdown",
      "metadata": {
        "id": "HF98eLXsZ79T"
      },
      "source": [
        "A.True\n",
        "\n",
        "\n",
        "\n",
        "---\n",
        "\n"
      ]
    },
    {
      "cell_type": "markdown",
      "metadata": {
        "id": "YB9qNFIDZvpn"
      },
      "source": [
        "19. $\\lambda$가 $A$의 eigenvalue라면, $\\lambda$는 $A^2$의 eigenvalue이다."
      ]
    },
    {
      "cell_type": "markdown",
      "metadata": {
        "id": "cnDN-ri_c7eQ"
      },
      "source": [
        "A.False\n",
        "\n",
        "> 제곱된 value를 갖는다..\n",
        "\n",
        "---\n",
        "\n"
      ]
    },
    {
      "cell_type": "markdown",
      "metadata": {
        "id": "NoJXSGdPnn8Z"
      },
      "source": [
        "20. $v$가 $A$의 eigenvector라면, $v$는 $A^2$의 eigenvector이다."
      ]
    },
    {
      "cell_type": "markdown",
      "metadata": {
        "id": "E2LKyF-Xnv0Q"
      },
      "source": [
        "A.True\n",
        "\n",
        "> $ A^2v = \\lambda^2v$\n",
        "\n",
        "---"
      ]
    },
    {
      "cell_type": "markdown",
      "metadata": {
        "id": "AUS_T3UVnwwJ"
      },
      "source": [
        "21. $v$가 $A^2$의 eigenvector라면, $v$는 $A$의 eigenvector이다."
      ]
    },
    {
      "cell_type": "markdown",
      "metadata": {
        "id": "BRkYEHCtn2NI"
      },
      "source": [
        "A.False\n",
        "\n",
        "> $A$ = [[0, 1],[1, 0]] 일 때, $A^2 = I$\n",
        "---"
      ]
    },
    {
      "cell_type": "markdown",
      "metadata": {
        "id": "MA13PNouc8F-"
      },
      "source": [
        "22. $A^2=A$일 경우, eigenvalues는 0, 1 두 값만 가질 수 있다."
      ]
    },
    {
      "cell_type": "markdown",
      "metadata": {
        "id": "IT_-fvEVZ54x"
      },
      "source": [
        "A.True\n",
        "\n",
        "> $ A^2v = \\lambda^2v$ 이므로 $\\lambda^2 = \\lambda$를 만족하는 것은 0, 1 두 값 밖에 없음.\n",
        "\n",
        "---\n",
        "\n"
      ]
    },
    {
      "cell_type": "markdown",
      "metadata": {
        "id": "ne3rE5yWaJNb"
      },
      "source": [
        "23. $\\lambda$가 matrix $A$, $B$의 eigenvalue라면, $\\lambda$는 $A+B$의 eigenvalue이다."
      ]
    },
    {
      "cell_type": "markdown",
      "metadata": {
        "id": "8Rx_9cMxaw4d"
      },
      "source": [
        "A.False\n",
        "\n",
        "> $\\lambda$와 eigenvector가 같아야하고 같다하더라도, $A + B$의 eigenvalue는 $2\\lambda$가 된다. \n",
        "---\n",
        "\n"
      ]
    },
    {
      "cell_type": "markdown",
      "metadata": {
        "id": "PCaKfiFOaxpe"
      },
      "source": [
        "24. $\\lambda$가 matrix $A$의 eigenvalue고 $\\mu$가 $B$의 eigenvalue라면, $\\lambda\\mu$는 $AB$의 eigenvalue이다."
      ]
    },
    {
      "cell_type": "markdown",
      "metadata": {
        "id": "iLTgqoAoeDgC"
      },
      "source": [
        "A.False\n",
        "\n",
        "> 앞 문제에서 언급했듯, eigenvalue $\\lambda$와 대응하고 있는 eigenvector가 같아야한다.\n",
        "\n",
        "---\n",
        "\n"
      ]
    },
    {
      "cell_type": "markdown",
      "metadata": {
        "id": "2UI1Hy5qeECr"
      },
      "source": [
        "25. $\\lambda\\neq0$가 matrix $A$의 eigenvalue면, $\\lambda^{-1}$는 $A^{-1}$의 eigenvalue이다."
      ]
    },
    {
      "cell_type": "markdown",
      "metadata": {
        "id": "ztK4wjlFaJXc"
      },
      "source": [
        " A.True\n",
        " \n",
        " > $A^{-1}v = λ^{-1}v$\n",
        "\n",
        "---\n",
        "\n"
      ]
    },
    {
      "cell_type": "markdown",
      "metadata": {
        "id": "UASni6U232y8"
      },
      "source": [
        "26. 모든 real symmetric matrix는 diagonalizable하다."
      ]
    },
    {
      "cell_type": "markdown",
      "metadata": {
        "id": "m_aJk5EK348-"
      },
      "source": [
        "A.True\n",
        "\n",
        "> symmetric이면 모든 고유백터가 직교하므로 diagonalizable하다.\n",
        "\n",
        "---\n",
        "\n"
      ]
    },
    {
      "cell_type": "markdown",
      "metadata": {
        "id": "P4Nf84rW35oP"
      },
      "source": [
        "27. 모든 diagonalizable matrix는 symmetric이다."
      ]
    },
    {
      "cell_type": "markdown",
      "metadata": {
        "id": "g5pqFJ-f364s"
      },
      "source": [
        "A. False\n",
        "\n",
        "> 모두는 아니다.\n",
        "---\n",
        "\n"
      ]
    },
    {
      "cell_type": "markdown",
      "metadata": {
        "id": "w-NamE7UHyCJ"
      },
      "source": [
        "28.  모든 real matrix $A$에 대해, $A^TA$는 diagonalizable하다."
      ]
    },
    {
      "cell_type": "markdown",
      "metadata": {
        "id": "7ORa6wKLN3L3"
      },
      "source": [
        "A.True\n",
        "\n",
        "> $ A^TA$는 symmetric하므로 앞에서 본바와같이 diagonalizable하다.\n",
        "\n",
        "---\n",
        "\n"
      ]
    },
    {
      "cell_type": "markdown",
      "metadata": {
        "id": "tj1ZH9iQN3_K"
      },
      "source": [
        "29. nxn matrix $A$의 서로 다른 eigenvalue의 개수가 n보다 작다면, $A$는 diagonalizable하지 않다."
      ]
    },
    {
      "cell_type": "markdown",
      "metadata": {
        "id": "QBL2L_fcNMSG"
      },
      "source": [
        "A.False\n",
        "\n",
        "> n보다 작다는건 단지 중근이 있다는 것이므로,  diagonalizable과 관련이 없다.\n",
        "\n",
        "---\n",
        "\n"
      ]
    },
    {
      "cell_type": "markdown",
      "metadata": {
        "id": "AIqhJvWJOGMX"
      },
      "source": [
        "30. $A^TA$의 eigenvalues는 $A$의 singular value이다.\n"
      ]
    },
    {
      "cell_type": "markdown",
      "metadata": {
        "id": "pdIzoVhpOGOQ"
      },
      "source": [
        "A. True\n",
        "\n",
        "자명하다.\n",
        "\n",
        "---\n",
        "\n"
      ]
    },
    {
      "cell_type": "markdown",
      "metadata": {
        "id": "zx7abeVJPhf_"
      },
      "source": [
        "31. 모든 $mxn$ matrix는 singular value decomposition이 가능하다.\n"
      ]
    },
    {
      "cell_type": "markdown",
      "metadata": {
        "id": "0s_wTu57O9cG"
      },
      "source": [
        "A. True\n",
        "\n",
        "> 고유값 분해와 달리 특이값 분해는 모든 행렬에서 가능하다.\n",
        "---\n",
        "\n"
      ]
    },
    {
      "cell_type": "markdown",
      "metadata": {
        "id": "KSgA0etYQzsW"
      },
      "source": [
        "  32. Matrix $A$가 invertible하고 $\\sigma$가 $A$의 singular value라면, $\\frac{1}{\\sigma}$는 $A^{-1}$의 singular value이다."
      ]
    },
    {
      "cell_type": "markdown",
      "metadata": {
        "id": "o0UMIr_XQ-8t"
      },
      "source": [
        "A. True\n",
        "\n",
        "> $ A = VDV^{-1}$에 역행렬을 취하면 $A^{-1}=V^{-1}D^{-1}V$이다. 이 때, $D^{-1}$의 원소는 $D$ 원소의 역수이다.\n",
        "\n",
        "---\n",
        "\n"
      ]
    },
    {
      "cell_type": "markdown",
      "metadata": {
        "id": "KqQM7cs3RAAS"
      },
      "source": [
        "33. Rank가 r인 mxn matrix $A=U\\Sigma V^T$가 주어졌을 때, $U$의 column $u_1,...,u_r$은 Col $A$의 orthogonal basis이다."
      ]
    },
    {
      "cell_type": "markdown",
      "metadata": {
        "id": "K6quBrfQRBbD"
      },
      "source": [
        "A.True\n",
        "\n",
        "> $V^T$를 스케일링한 $U$와 외적을 계속해서 구하므로 $u_1,...,u_r$은 $A$의 orthogonal basis이다.\n",
        "---\n",
        "\n"
      ]
    },
    {
      "cell_type": "markdown",
      "metadata": {
        "id": "SKZS9f3PRCEf"
      },
      "source": [
        "34. m dimensional vector $x$와 mxm orthogonal matrix $Q$가 주어졌을 때, $||Qx||^2_2 = ||x||^2_2$이다."
      ]
    },
    {
      "cell_type": "markdown",
      "metadata": {
        "id": "FNcTLayLRC39"
      },
      "source": [
        "A. True\n",
        "\n",
        "> $||Qx||^2_2$를 풀어서 쓰면 $x^TQ^TQx$가 된다. $Q$가 orthogonal하므로, $Q^TQ$가 $I$ 단위행렬이 된다.\n",
        "\n",
        "> $\\therefore ||Qx||^2_2 = ||x||^2_2$\n",
        "\n",
        "---\n",
        "\n"
      ]
    }
  ]
}